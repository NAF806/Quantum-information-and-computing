{
 "cells": [
  {
   "cell_type": "code",
   "execution_count": 13,
   "metadata": {},
   "outputs": [
    {
     "name": "stdout",
     "output_type": "stream",
     "text": [
      "Word count: 3600\n"
     ]
    }
   ],
   "source": [
    "import json\n",
    "import re\n",
    "\n",
    "def count_words_in_notebook(notebook_path):\n",
    "    with open(notebook_path, 'r', encoding='utf-8') as f:\n",
    "        notebook = json.load(f)\n",
    "    \n",
    "    text = \"\"\n",
    "    bibliography_found = False\n",
    "    appendix_found = False\n",
    "    for cell in notebook['cells']:\n",
    "        if cell['cell_type'] == 'markdown':\n",
    "            cell_text = ''.join(cell['source'])\n",
    "            if \"Bibliography\" in cell_text:\n",
    "                bibliography_found = True\n",
    "            if \"Appendix\" in cell_text:\n",
    "                appendix_found = True\n",
    "            if not bibliography_found or appendix_found:\n",
    "                text += cell_text + ' '\n",
    "        elif cell['cell_type'] == 'code' and (not bibliography_found or appendix_found):\n",
    "            text += ''.join(cell['source']) + ' '\n",
    "    \n",
    "    words = re.findall(r'\\b\\w+\\b', text)\n",
    "    return len(words)\n",
    "\n",
    "notebook_path = 'Computing_Project.ipynb'\n",
    "word_count = count_words_in_notebook(notebook_path)\n",
    "print(f\"Word count: {word_count}\")"
   ]
  },
  {
   "cell_type": "code",
   "execution_count": null,
   "metadata": {},
   "outputs": [],
   "source": []
  }
 ],
 "metadata": {
  "kernelspec": {
   "display_name": "base",
   "language": "python",
   "name": "python3"
  },
  "language_info": {
   "codemirror_mode": {
    "name": "ipython",
    "version": 3
   },
   "file_extension": ".py",
   "mimetype": "text/x-python",
   "name": "python",
   "nbconvert_exporter": "python",
   "pygments_lexer": "ipython3",
   "version": "3.12.5"
  }
 },
 "nbformat": 4,
 "nbformat_minor": 2
}
