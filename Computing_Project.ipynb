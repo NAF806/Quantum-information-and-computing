{
 "cells": [
  {
   "cell_type": "markdown",
   "metadata": {},
   "source": [
    "# **Introduction to Quantum Cryptography** # \n",
    "Nihal Faiz\n",
    "\n",
    "K21004658\n",
    " \n",
    "K21004658@kcl.ac.uk"
   ]
  },
  {
   "cell_type": "markdown",
   "metadata": {},
   "source": [
    "*Modules and Packages used:*"
   ]
  },
  {
   "cell_type": "code",
   "execution_count": 2,
   "metadata": {},
   "outputs": [],
   "source": [
    "import numpy as np\n",
    "from qiskit_aer import AerSimulator\n",
    "from qiskit import QuantumCircuit, transpile\n",
    "from qiskit_aer.noise import NoiseModel, depolarizing_error"
   ]
  },
  {
   "cell_type": "markdown",
   "metadata": {},
   "source": [
    "## Introduction to Quantum Computing ##\n",
    "\n",
    "Before looking into specific examples and implications of Quantum Cryptography, it is worth giving a general overview of quantum computing. Quantum computing leverages quantum mechanics to tackle problems beyond the reach of classical computers. Richard Feynman first proposed the concept in 1982 [*1*], envisioning the use of quantum systems for computational purposes. While classical and quantum computers share certain foundational elements, such as chips, logic gates, and binary representation, their fundamental difference lies in how they encode and process information. Classical bits represent either a 0 or 1, whereas quantum bits, or qubits, can represent both 0 and 1 simultaneously due to superposition.\n",
    "\n",
    "Superposition allows qubits to exist in a state that is a combination of both $|0\\rangle$ and $|1\\rangle$, providing quantum computers with vastly greater capacity to store and manipulate information. When measured, a qubit collapses to either 0 or 1, but until that moment, it effectively holds both possibilities, allowing quantum computers to perform multiple calculations at once. This property is key to their potential for solving certain problems exponentially faster than classical computers.\n",
    "\n",
    "Another fundamental principle in quantum computing is entanglement, a phenomenon where two or more qubits become interconnected such that the state of one directly determines the state of the other, regardless of distance. \n",
    "\n",
    "Quantum gates are used to manipulate qubits, like logic gates in classical computing. These gates, such as the Hadamard gate (which induces superposition) and the CNOT gate (which creates entanglement), exploit quantum properties to perform operations on qubits. "
   ]
  },
  {
   "cell_type": "markdown",
   "metadata": {},
   "source": [
    "# What is quantum cryptography? #\n",
    "\n",
    "Quantum cryptography leverages quantum mechanics to create a communication system that is secure enough to withstand attacks from classical and quantum computers. The primary focus of quantum cryptography is quantum key distribution (QKD), which enables two locations to share a secret key that can be used to encrypt or decrpyt messages. Additionally, quantum computing poses a significant threat to traditional encryption methods, such as Rivest–Shamir–Adleman (RSA), as algorithms like Shor's Algorithm could efficiently break their security — a concept explored later in this project."
   ]
  },
  {
   "cell_type": "markdown",
   "metadata": {},
   "source": [
    "## Quantum Key Distribution ##\n",
    "\n",
    "QKD is vital for quantum cryptography. **BB84** is the most widely used protocol for QKD, it was initially proposed in 1984 by Charles Bennett and Gilles Brassard [*2*]. QKD relies on the following fundamental principles of quantum mechanics. \n",
    "\n",
    "* **Heisenberg Uncertainty Principle** In quantum systems, only one property of a pair of conjugate properties can be known for certain. This principle gets taken advantage of in quantum cryptography by using the polarisation of photons on different bases as the conjugate properties.\n",
    "\n",
    "* **Superposition** : As previously mentioned, quantum particles can exist in multiple states simultaneously until the particle has been measured. This property enables the ability to encode information in multiple bases, such as different polarisation directions i.e. horizontal/ vertical or diagonal polarization of photons.\n",
    "\n",
    "* **No-cloning** : This theorem states that it is impossible to create an independent and identical copy of an unkown quantum system. This property forbids eavesdroppers from creating copies of the transmitted cryptographic key. More mathematically put, the theorem says that there is no unitary operation that can take an unknown arbitary quantum state $|\\psi \\rangle$ and produce a copy of it, i.e, it is impossible to construct a unitary operator that acts as: \n",
    "\n",
    "\\begin{equation}\n",
    "U(|\\psi \\rangle \\otimes |0\\rangle) = |\\psi \\rangle \\otimes |\\psi \\rangle \n",
    "\\end{equation}\n",
    "\n",
    "* **Measurement disturbs state** : If the an eavesdropper tries to measure the quantum states that are being exchanged, they induce detectable changes due to the disturbance caused by the measurement. \n",
    "\n",
    "* **Entanglement** : Two quantum particles can be entangled, regardless of the distance between them. When a property is measured in a particle, a correlated state of the property will appear on the other. "
   ]
  },
  {
   "cell_type": "markdown",
   "metadata": {},
   "source": [
    "## BB84 Protocol ##\n",
    "\n",
    "The BB84 protocol consists of a sender (Alice) and a receiver (Bob), they share a sequence of photons which are encoded with random polarization states. The no-cloning theorem ensures that an eavesdropper (Eve) cannot measure the sequence without disturbing the photons, making Eve detectable. This is only true if there is no error in the system, otherwise Eve will be undetectable. The protocol can be divided into 3 primary components, communication over a quantum channel, classical communication, and eavesdropping detection. "
   ]
  },
  {
   "cell_type": "markdown",
   "metadata": {},
   "source": [
    "### Quantum Communication ###\n",
    "\n",
    "In the initial phase, Alice and Bob communicate using a quantum channel to establish a secret key. Alice would generate two random strings, sequence of bits and measurement bases. The bases are chosen at random, either a rectilinear basis (horizontal or vertical polarisation denoted as +) or a diagonal basis (45° or 135° polarisation, denoted as an x)\n",
    "\n",
    "These bases are used  by Alice to encode each bit onto a photon. For example, if she tries to transmit a bit of \"0\" and choose the rectilinear basis, she may encode the bit as a horizontally polarized photon. These photons are then sent sequentially through the quantum channel (optical fibre), to Bob. \n",
    "\n",
    "When Bob receives these photons, he chooses a random measurement basis for each one. If the bases match, he correctly measures the photon and is able to identify the transmitted bit. However, if he uses a different basis, he will measure incorrectly and, as a result, would obtain a random bit. "
   ]
  },
  {
   "cell_type": "code",
   "execution_count": 3,
   "metadata": {},
   "outputs": [],
   "source": [
    "n = 64 # define the number of qubits\n",
    "\n",
    "#  Alice's random bits and bases\n",
    "alice_bits = np.random.randint(2, size=n)\n",
    "alice_bases = np.random.randint(2, size=n)  \n",
    "\n",
    "#  Bob's random bases\n",
    "bob_bases = np.random.randint(2, size=n)"
   ]
  },
  {
   "cell_type": "markdown",
   "metadata": {},
   "source": [
    "`alice_bases` is a random array representing Alice's choice of measurement bases:\n",
    "\n",
    "* 0: The + basis (computational, i.e. $|0\\rangle$ and $|1\\rangle$)\n",
    "* 1: The x basis (Hadamard basis, i.e. $|+\\rangle$ and $|-\\rangle$)"
   ]
  },
  {
   "cell_type": "code",
   "execution_count": 4,
   "metadata": {},
   "outputs": [
    {
     "name": "stdout",
     "output_type": "stream",
     "text": [
      "Alice's bases:    [1 0 0 1 0 1 0 0 0 0 1 0 1 0 0 0 1 0 0 1 1 1 0 1 1 0 1 0 1 1 1 1 0 0 1 1 0\n",
      " 0 0 1 1 0 1 0 1 0 1 0 1 0 1 0 0 1 1 0 0 0 1 1 0 0 0 1]\n",
      "Alice's bits:     [0 1 1 1 0 0 1 1 1 0 1 1 1 0 1 1 1 0 1 1 0 1 1 1 1 0 1 0 0 0 0 0 1 0 1 0 1\n",
      " 1 0 0 0 0 1 1 0 1 0 1 1 0 0 0 0 0 1 0 1 0 1 1 1 0 0 1]\n",
      "Bob's bases:      [1 0 0 0 0 1 1 1 0 0 1 1 0 1 1 0 0 1 1 1 1 0 0 0 0 0 0 1 1 0 0 1 0 1 0 0 0\n",
      " 1 1 0 1 1 1 0 0 1 1 1 0 0 0 1 1 1 0 0 0 0 1 0 1 0 1 1]\n"
     ]
    }
   ],
   "source": [
    "print(\"Alice's bases:   \", alice_bases)\n",
    "print(\"Alice's bits:    \", alice_bits)\n",
    "print(\"Bob's bases:     \", bob_bases)"
   ]
  },
  {
   "cell_type": "code",
   "execution_count": 5,
   "metadata": {},
   "outputs": [],
   "source": [
    "received_bits = [] # to store the received bits\n",
    "backend = AerSimulator() # simulates the quantum operations \n",
    "\n",
    "for i in range(n):\n",
    "    qc = QuantumCircuit(1, 1)\n",
    "    # Encode Alice's bit into her chosen basis\n",
    "    if alice_bases[i] == 0:  # + basis\n",
    "        if alice_bits[i] == 1:\n",
    "            qc.x(0)  # |1⟩\n",
    "    else:  # × basis\n",
    "        if alice_bits[i] == 0:\n",
    "            qc.h(0)  # |+⟩\n",
    "        else:\n",
    "            qc.x(0)\n",
    "            qc.h(0)  # |-⟩\n",
    "    \n",
    "    # Bob's measurement\n",
    "    if bob_bases[i] == 1:  # Measure in × basis\n",
    "        qc.h(0)\n",
    "    qc.measure(0, 0)\n",
    "\n",
    "    # Run the circuit directly on the backend\n",
    "    job = backend.run(qc, shots=10)\n",
    "    result = job.result()\n",
    "    counts = result.get_counts()\n",
    "    measured_bit = int(list(counts.keys())[0])\n",
    "    received_bits.append(measured_bit)"
   ]
  },
  {
   "cell_type": "markdown",
   "metadata": {},
   "source": [
    "* When Alice uses the + basis (`alice_bases[i] == 0`):\n",
    "  * if the bit she wants to encode is 0, the qubit stays in its default state $|0\\rangle$\n",
    "  * if the bit she wants to encode it 1, she flips the bit using an X gate, which would result in the $|1\\rangle$ \n",
    "* When Alice uses the x basis (`alice_bases[i] == 1`):\n",
    "  * if the bit she wants to encode is 0, she applies the Hadammard gate, transforming it in to the $|+ \\rangle$ \n",
    "  * if the bit is 1, she first flips the qubit with an X gate and then applies a Hadammard, producing a $|-\\rangle$"
   ]
  },
  {
   "cell_type": "markdown",
   "metadata": {},
   "source": [
    "### Classical Communication ###  \n",
    "\n",
    "After this quantum communication, the sender and receiver engage in classical communication where the receiver shares which of the bases they used for each of the photons without sharing the measured value of the bits. The sender then confirms which of the bases matched. Using this information, they agree to keep only the bits for which receivers matched the senders, disregarding the rest. This process produces a shorter, identical bit-string shared between the sender and the receiver, which is known as the sifted key. "
   ]
  },
  {
   "cell_type": "code",
   "execution_count": 6,
   "metadata": {},
   "outputs": [
    {
     "name": "stdout",
     "output_type": "stream",
     "text": [
      "Alice's bits:     [0 1 1 1 0 0 1 1 1 0 1 1 1 0 1 1 1 0 1 1 0 1 1 1 1 0 1 0 0 0 0 0 1 0 1 0 1\n",
      " 1 0 0 0 0 1 1 0 1 0 1 1 0 0 0 0 0 1 0 1 0 1 1 1 0 0 1]\n",
      "Bob's received bits: [0, 1, 1, 0, 0, 0, 1, 0, 1, 0, 1, 0, 0, 1, 1, 1, 1, 1, 1, 1, 0, 1, 1, 1, 0, 0, 1, 0, 0, 1, 0, 0, 1, 1, 1, 1, 1, 1, 0, 0, 0, 1, 1, 1, 0, 0, 0, 0, 0, 0, 0, 1, 1, 0, 1, 0, 1, 0, 1, 0, 0, 0, 0, 1]\n",
      "Sifted key:       [0, 1, 1, 0, 0, 1, 0, 1, 1, 1, 0, 1, 0, 0, 0, 1, 1, 0, 1, 1, 0, 0, 0, 0, 1, 0, 1, 0, 1]\n"
     ]
    }
   ],
   "source": [
    "sifted_key = []\n",
    "for i in range(n):\n",
    "    if alice_bases[i] == bob_bases[i]:  # Keep bits where bases match\n",
    "        sifted_key.append(received_bits[i])\n",
    "\n",
    "# Display results\n",
    "print(\"Alice's bits:    \", alice_bits)\n",
    "print(\"Bob's received bits:\", received_bits)\n",
    "print(\"Sifted key:      \", sifted_key)"
   ]
  },
  {
   "cell_type": "markdown",
   "metadata": {},
   "source": [
    "### Detecting Eavesdropping ###\n",
    "\n",
    "The security of the BB84 protocol relies on the fundamental principle that measuring a quantum system inevitably disturbs it. To verify the security of their communication, Alice and Bob reveal and compare a subset of bits from their sifted key over a classical channel. If the revealed bits match, they can confidently conclude that the transmission was secure. However, if the revealed bits do not match, it suggests the presence of an eavesdropper, commonly referred to as Eve.\n",
    "\n",
    "Eve's detection is possible because intercepting and measuring a photon requires her to guess the basis used by Alice. If she guesses incorrectly, her measurement collapses the quantum state, introducing errors that are detectable by Alice and Bob when they compare their revealed bits.\n",
    "\n",
    "In the simulation below, we also introduce noise, which simulates the effects of imperfections in the quantum communication channel or hardware. Noise can arise from various sources, such as environmental interference, thermal fluctuations, or imperfections in quantum devices. It manifests as random errors in the transmitted qubits, which could mimic the effects of eavesdropping. "
   ]
  },
  {
   "cell_type": "code",
   "execution_count": 7,
   "metadata": {},
   "outputs": [],
   "source": [
    "# Eve's random bases and measurements\n",
    "eve_bases = np.random.randint(2, size=n)  # Eve's random bases\n",
    "eve_measured_bits = []\n",
    "\n",
    "bob_measured_bits = []  # Collect all of Bob's measured bits\n",
    "\n",
    "# Simulator backend\n",
    "backend = AerSimulator()\n",
    "\n",
    "# Add depolarizing noise to the simulation\n",
    "noise_model = NoiseModel()\n",
    "depolarizing_noise = depolarizing_error(0.1, 1)  # 10% depolarizing noise for single qubits\n",
    "noise_model.add_all_qubit_quantum_error(depolarizing_noise, ['h', 'x', 'measure'])\n",
    "\n",
    "for i in range(n):\n",
    "    qc = QuantumCircuit(1, 1)\n",
    "    # Alice prepares the qubit\n",
    "    if alice_bases[i] == 0:  # + basis\n",
    "        if alice_bits[i] == 1:\n",
    "            qc.x(0)  # |1⟩\n",
    "    else:  # × basis\n",
    "        if alice_bits[i] == 0:\n",
    "            qc.h(0)  # |+⟩\n",
    "        else:\n",
    "            qc.x(0)\n",
    "            qc.h(0)  # |-⟩\n",
    "\n",
    "    # Eve measures in her random basis\n",
    "    eve_qc = qc.copy()\n",
    "    if eve_bases[i] == 1:  # × basis\n",
    "        eve_qc.h(0)\n",
    "    eve_qc.measure(0, 0)\n",
    "\n",
    "    eve_result = backend.run(transpile(eve_qc, backend), noise_model=noise_model, shots=100).result()\n",
    "    eve_counts = eve_result.get_counts()\n",
    "    eve_measured_bit = int(max(eve_counts, key=eve_counts.get))\n",
    "    eve_measured_bits.append(eve_measured_bit)\n",
    "\n",
    "    # Eve resends the qubit based on her measurement\n",
    "    qc = QuantumCircuit(1, 1)\n",
    "    if eve_bases[i] == 0:  # Resend in + basis\n",
    "        if eve_measured_bit == 1:\n",
    "            qc.x(0)\n",
    "    else:  # Resend in × basis\n",
    "        if eve_measured_bit == 0:\n",
    "            qc.h(0)\n",
    "        else:\n",
    "            qc.x(0)\n",
    "            qc.h(0)\n",
    "\n",
    "    # Bob measures the received qubit\n",
    "    if bob_bases[i] == 1:  # Measure in × basis\n",
    "        qc.h(0)\n",
    "    qc.measure(0, 0)\n",
    "\n",
    "\n",
    "\n",
    "    bob_result = backend.run(transpile(qc, backend), noise_model=noise_model, shots=100).result()\n",
    "    bob_counts = bob_result.get_counts()\n",
    "    bob_measured_bit = int(max(bob_counts, key=bob_counts.get))\n",
    "    bob_measured_bits.append(bob_measured_bit)  # Store Bob's measured bit\n"
   ]
  },
  {
   "cell_type": "markdown",
   "metadata": {},
   "source": [
    "Eve uses her own randomly chosen measurement bases to measure the qubits. Since Eve doesn’t know which bases Alice used, she has a 50% chance of selecting the correct one for each qubit. After measuring the qubits, Eve then sends them onward to Bob.\n",
    "\n",
    "This interception by Eve changes the original quantum state of the qubits. Because quantum measurements are inherently disruptive, once Eve measures a qubit, it collapses to a definite state corresponding to her measurement. When Eve forwards the qubits to Bob, Bob receives qubits that may have already been altered by Eve’s incorrect measurement.\n",
    "\n",
    "Consequently, when Bob measures the qubits, he is now working with a set of quantum states that might differ from the original states that Alice sent. Bob, unaware of Eve's interference, measures the qubits using his own randomly chosen bases. This results in a higher error rate in the comparison process between Alice and Bob since Eve's presence disrupts the consistency of the key. When Alice and Bob compare a subset of their bits publicly to check for discrepancies, the higher-than-expected error rate will indicate the presence of an eavesdropper like Eve."
   ]
  },
  {
   "cell_type": "code",
   "execution_count": 8,
   "metadata": {},
   "outputs": [
    {
     "name": "stdout",
     "output_type": "stream",
     "text": [
      "No eavesdropping detected. Key accepted.\n",
      "Shared key:  [1, 1, 1, 1, 0, 1, 1, 0, 0, 1, 1, 1, 1, 0, 1, 1, 1]\n",
      "Error rate: 6.25%\n"
     ]
    }
   ],
   "source": [
    "shared_key = []\n",
    "revealed_indices = np.random.choice(range(n), size=n // 2, replace=False)  # Publicly reveal half the bits\n",
    "errors_detected = 0\n",
    "\n",
    "for i in range(n):\n",
    "    if alice_bases[i] == bob_bases[i]:  # Keep bits where bases match\n",
    "        if i in revealed_indices:\n",
    "            # Publicly compare the revealed bits\n",
    "            if alice_bits[i] != bob_measured_bits[i]:\n",
    "                errors_detected += 1\n",
    "        else:\n",
    "            # Keep bits not revealed\n",
    "            shared_key.append(bob_measured_bits[i])\n",
    "\n",
    "# Calculate the error rate\n",
    "error_rate = errors_detected / len(revealed_indices)\n",
    "\n",
    "\n",
    "if error_rate > 0.1:  # Threshold for detection (10% error rate)\n",
    "    print(\"Eavesdropping detected! Key aborted.\")\n",
    "else:\n",
    "    print(\"No eavesdropping detected. Key accepted.\")\n",
    "    print(\"Shared key: \", shared_key)\n",
    "\n",
    "print(f\"Error rate: {error_rate:.2%}\")"
   ]
  },
  {
   "cell_type": "markdown",
   "metadata": {},
   "source": [
    "The code cell above evaluates the process of establishing a shared key between Alice and Bob by checking when Bob correctly guesses the measurement basis compared to Alice's basis. It identifies bits where their bases match and separates them into revealed and unrevealed sets. For the revealed bits, Alice and Bob publicly compare their measured values. If the values differ, this indicates an error, which could be caused by eavesdropping (by Eve) or noise. The error rate is calculated as the ratio of detected errors to the number of revealed bits. If this error rate exceeds a predefined threshold of 10%, it suggests potential interference, and the key generation process is aborted. If the error rate is below the threshold, the shared key is accepted, consisting of the unrevealed bits measured by Bob. The process ensures that the shared key remains secure and reliable under normal conditions."
   ]
  },
  {
   "cell_type": "markdown",
   "metadata": {},
   "source": [
    "# Schor's algorithm vs RSA Encryption \n",
    "\n",
    "The greatest threat to cyber security is the possibility of breaking RSA encryption with a powerul enough quantum computer. RSA encryption is widely implemented and is used to begin over 90% [4] of internet connections. The algorithm functions based on prime factorisation. It is an asymmetric encryption algorithm meaning a public and private key are used in the encryption and decryption process. The message in enryrpted by the sender using a public key and can only be decrypted by the receiver's private key. The sender encrypts the message using the product of two prime numbers. The product of the two numbers is the public key. The receiver has the two prime numbers that were multiplied together - this is the private key. \n",
    "RSA public keys can be up to 617 [4] digits long which makes it computationally impossible for classical computers to prime factorise such a large number. \n",
    "\n",
    "Peter Shor developed a quantum factoring algorithm that has the potential to break RSA encryption given a powerful enough quantum computer. The algorithm begins by selecting a random integer smaller than the number that you are looking to factorise, *N*. The classical computation of the greatest common divisor (GCD) between this random number and *N* checks if the number has already been factored accidentally. The quantum computers main role is to determine the period of a specific function related to the number that needs to be factorised. Based on this result, the algorithm finds the factors or decides whether a new random number needs to be chosen to be tested. \n",
    "\n",
    "It is composed of three major components:\n",
    "\n",
    "* Initial classical computation \n",
    "* Quantum computation to find the period \n",
    "* Final classical computation to derive the factors\n",
    "\n",
    "The quantum components, specifically quantum phase estimation (QPE) and inverse quantum fourier transforms (iQFT) underpin the entire process. QPE is essential for determining the period of the arithmetic function $ f(x) = a^x mod N $. After the QPE calculates the arithemtic function, the iQFT converts the quantum state into classical information that can be retrieved from the quantum circuit by measurement. These quantum processes enable the algorithm to theoretically calculate the factors of very large numbers. \n",
    "\n",
    "## Limitations \n",
    "\n",
    "Although Shor's algorithm is extremely powerful, RSA encryption has not yet been broken mainly due to the physical restrictions on quantum computers. The largest number to be factorised using Shor's algorithm is 21 using only a 5 qubit quantum computer[5]. Companies such as D-wave have quantum computers with over 5000 qubtis. Despite this fact, reason for the lack of progression in factorising larger is not due to the quantity of qubits in a quantum computer, but actually a matter of the number of stable qubits. Quantum computers are prone to error and noise which makes it difficult to extract meaningful values. \n"
   ]
  },
  {
   "cell_type": "markdown",
   "metadata": {},
   "source": [
    "\n",
    "# Conclusion\n",
    "\n",
    "This project explored quantum cryptography's potential, particularly the Quantum Key Distribution (QKD) through the BB84 protocol, and the implications of quantum computing with Shor’s algorithm. While both represent groundbreaking advancements, they come with notable limitations.\n",
    "\n",
    "The BB84 protocol offers robust security by leveraging quantum mechanical properties like superposition, entanglement, and the no-cloning theorem. However, its practicality faces significant challenges. Real-world implementation of this protocol is set back by a number of factors such as noise in quantum channels, environmental interference, and technological imperfections in quantum devices. These factors can introduce errors that can mask the intrusion of an eavesdropper. Additionally, the protocol relies on secure classical communication, which may itself become vulnerable without secure encryption.\n",
    "\n",
    "Similarly, while Shor’s algorithm poses a threat to classical encryption, its practical application is constrained by the current state of quantum hardware. Quantum computers today lack the stability and scale required to factorise large numbers efficiently. Issues such as qubit decoherence, error rates, and limited quantum coherence time hinder the algorithm's effectiveness. Currently Shor's algorithm has only been able to factorise numbers up to 21, far below the scale needed to compromise RSA encryption in real-world scenarios.\n"
   ]
  },
  {
   "cell_type": "markdown",
   "metadata": {},
   "source": [
    "# Bibliography\n",
    "\n",
    "\n",
    "[1] Resonance (2024) The history of quantum computing you need to know [2024], The Quantum Insider. Available at: https://thequantuminsider.com/2020/05/26/history-of-quantum-computing/ \n",
    "\n",
    "[2] Quantum blockchains. Available at: https://www.quantumblockchains.io/qkd-protocol-simulation-with-qiskit/ \n",
    "\n",
    "[3] MR.Asif (2022) Quantum key distribution and BB84 protocol, Medium. Available at: https://medium.com/quantum-untangled/quantum-key-distribution-and-bb84-protocol-6f03cc6263c5 \n",
    "\n",
    "[4] Bose, A. (2024) Shor’s algorithm and RSA encryption , Quantum Algorithms Institute. Available at: https://www.qai.ca/resource-library/shors-algorithm-and-rsa-encryptionnbsp#:~:text=Although%20Shor’s%20algorithm%20is%20incredibly,factors%20of%203%20and%205. \n",
    "\n",
    "[5] Skosana, U., Tame, M. Demonstration of Shor’s factoring algorithm for N = 21 on IBM quantum processors. Sci Rep 11, 16599 (2021). https://doi.org/10.1038/s41598-021-95973-w\n",
    "\n",
    "[6] qbit12 (2021) Tutorials/intermediate/the BB84 quantum cryptography algorithm.ipynb at main · qmunitytech/tutorials, GitHub. Available at: https://github.com/qmunitytech/Tutorials/blob/main/intermediate/The%20BB84%20Quantum%20Cryptography%20algorithm.ipynb\n",
    "\n",
    "[7] M. H. Saeed, H. Sattar, M. H. Durad and Z. Haider, \"Implementation of QKD BB84 Protocol in Qiskit,\" 2022 19th International Bhurban Conference on Applied Sciences and Technology (IBCAST), Islamabad, Pakistan, 2022, pp. 689-695, doi: 10.1109/IBCAST54850.2022.9990073. \n",
    "\n",
    "[8] Booth, G., 2024. Quantum Information and Computing Lecture Notes: 7CCP3000. [Lecture notes] King's College London, Department of Physics, 5 November.\n",
    "\n"
   ]
  },
  {
   "cell_type": "markdown",
   "metadata": {},
   "source": []
  }
 ],
 "metadata": {
  "kernelspec": {
   "display_name": "Quantum-Information-and-Computing",
   "language": "python",
   "name": "python3"
  },
  "language_info": {
   "codemirror_mode": {
    "name": "ipython",
    "version": 3
   },
   "file_extension": ".py",
   "mimetype": "text/x-python",
   "name": "python",
   "nbconvert_exporter": "python",
   "pygments_lexer": "ipython3",
   "version": "3.12.5"
  }
 },
 "nbformat": 4,
 "nbformat_minor": 2
}
